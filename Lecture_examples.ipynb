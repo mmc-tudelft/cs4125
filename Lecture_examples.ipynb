{
 "cells": [
  {
   "cell_type": "markdown",
   "metadata": {},
   "source": [
    "## Enable inline plotting"
   ]
  },
  {
   "cell_type": "code",
   "execution_count": null,
   "metadata": {
    "collapsed": true
   },
   "outputs": [],
   "source": [
    "# this is a so-called 'magic function' allowing plotting within your notebook\n",
    "% matplotlib notebook"
   ]
  },
  {
   "cell_type": "markdown",
   "metadata": {},
   "source": [
    "## Import relevant general modules"
   ]
  },
  {
   "cell_type": "code",
   "execution_count": null,
   "metadata": {
    "collapsed": true
   },
   "outputs": [],
   "source": [
    "import sklearn\n",
    "from sklearn import datasets\n",
    "from sklearn import metrics\n",
    "import skimage\n",
    "from skimage import io\n",
    "import re\n",
    "import numpy as np\n",
    "import os.path\n",
    "import matplotlib.pyplot as plt\n",
    "from matplotlib import cm\n",
    "from matplotlib.colors import ListedColormap"
   ]
  },
  {
   "cell_type": "markdown",
   "metadata": {},
   "source": [
    "## Import our local modules"
   ]
  },
  {
   "cell_type": "code",
   "execution_count": null,
   "metadata": {
    "collapsed": false
   },
   "outputs": [],
   "source": [
    "import cs4125_util\n",
    "import stupid_systems\n",
    "# you will similarly import groupXX if you write your code in groupXX.py"
   ]
  },
  {
   "cell_type": "markdown",
   "metadata": {},
   "source": [
    "## For the pattern recognition people"
   ]
  },
  {
   "cell_type": "code",
   "execution_count": null,
   "metadata": {
    "collapsed": false
   },
   "outputs": [],
   "source": [
    "# load a famous classification dataset\n",
    "iris_data = datasets.load_iris()\n",
    "iris_data.keys()"
   ]
  },
  {
   "cell_type": "code",
   "execution_count": null,
   "metadata": {
    "collapsed": false
   },
   "outputs": [],
   "source": [
    "# what features does this dataset have?\n",
    "iris_data['feature_names']"
   ]
  },
  {
   "cell_type": "code",
   "execution_count": null,
   "metadata": {
    "collapsed": false
   },
   "outputs": [],
   "source": [
    "# what does the data look like?\n",
    "iris_data['data']"
   ]
  },
  {
   "cell_type": "code",
   "execution_count": null,
   "metadata": {
    "collapsed": false
   },
   "outputs": [],
   "source": [
    "# let's plot the first two features\n",
    "\n",
    "# first prepare a colormap (red, blue, green) for class (0, 1, 2)\n",
    "colormap = cm.RdBu\n",
    "cm_bright = ListedColormap(['#FF0000', '#0000FF', '#00FF00'])\n",
    "\n",
    "plt.figure()\n",
    "plt.scatter(iris_data['data'][:,0], iris_data['data'][:,1], c=iris_data['target'], cmap=cm_bright)\n",
    "plt.xlabel(iris_data['feature_names'][0])\n",
    "plt.ylabel(iris_data['feature_names'][1])\n",
    "plt.show()"
   ]
  },
  {
   "cell_type": "markdown",
   "metadata": {},
   "source": [
    "## On towards our own examples"
   ]
  },
  {
   "cell_type": "code",
   "execution_count": null,
   "metadata": {
    "collapsed": true
   },
   "outputs": [],
   "source": [
    "# set the path to the PhotoTweet dataset folder\n",
    "data_folder = 'your/data/folder'"
   ]
  },
  {
   "cell_type": "code",
   "execution_count": null,
   "metadata": {
    "collapsed": false
   },
   "outputs": [],
   "source": [
    "# load the dataset using the utility code\n",
    "phototweet_dataset = cs4125_util.initialize_phototweet_dataset(data_folder)"
   ]
  },
  {
   "cell_type": "code",
   "execution_count": null,
   "metadata": {
    "collapsed": false
   },
   "outputs": [],
   "source": [
    "# inspect keys\n",
    "phototweet_dataset.keys()"
   ]
  },
  {
   "cell_type": "markdown",
   "metadata": {},
   "source": [
    "## Consider some bogus features"
   ]
  },
  {
   "cell_type": "code",
   "execution_count": null,
   "metadata": {
    "collapsed": true
   },
   "outputs": [],
   "source": [
    "red_pixel_data = stupid_systems.get_ten_red_pixels(phototweet_dataset, data_folder)\n",
    "token_count = stupid_systems.count_tokens(phototweet_dataset, data_folder)"
   ]
  },
  {
   "cell_type": "code",
   "execution_count": null,
   "metadata": {
    "collapsed": true
   },
   "outputs": [],
   "source": [
    "sum_first_ten_red = np.sum(red_pixel_data, axis=1)"
   ]
  },
  {
   "cell_type": "code",
   "execution_count": null,
   "metadata": {
    "collapsed": false
   },
   "outputs": [],
   "source": [
    "# if you want to experiment with how np.sum works again, you can always create a dummy test\n",
    "test = np.zeros((3,5))\n",
    "test.shape"
   ]
  },
  {
   "cell_type": "code",
   "execution_count": null,
   "metadata": {
    "collapsed": false
   },
   "outputs": [],
   "source": [
    "test[2,3] = 5\n",
    "test"
   ]
  },
  {
   "cell_type": "code",
   "execution_count": null,
   "metadata": {
    "collapsed": false
   },
   "outputs": [],
   "source": [
    "np.sum(test, axis=1)"
   ]
  },
  {
   "cell_type": "code",
   "execution_count": null,
   "metadata": {
    "collapsed": false
   },
   "outputs": [],
   "source": [
    "# can we see any separable information?\n",
    "\n",
    "# plot red and blue\n",
    "cm_bright = ListedColormap(['#FF0000', '#0000FF'])\n",
    "\n",
    "plt.figure()\n",
    "plt.scatter(token_count, sum_first_ten_red, c=phototweet_dataset['target'], cmap=cm_bright)\n",
    "plt.xlabel('token count')\n",
    "plt.ylabel('sum of first ten red pixels')\n",
    "plt.show()"
   ]
  },
  {
   "cell_type": "code",
   "execution_count": null,
   "metadata": {
    "collapsed": false
   },
   "outputs": [],
   "source": [
    "# ...not really, but let's make a local function that makes a stupid label prediction based on this info\n",
    "\n",
    "def give_bogus_heuristic_answers(token_count, sum_first_ten_red):\n",
    "    #bogus_heuristic_answers = np.zeros(len(token_count))\n",
    "    for i in range(0, len(token_count)):\n",
    "        if token_count[i] < 200 and sum_first_ten_red[i] < 1000:\n",
    "            bogus_heuristic_answers[i] = 0\n",
    "        else:\n",
    "            bogus_heuristic_answers[i] = 1\n",
    "    return bogus_heuristic_answers"
   ]
  },
  {
   "cell_type": "code",
   "execution_count": null,
   "metadata": {
    "collapsed": false
   },
   "outputs": [],
   "source": [
    "bogus_answers = give_bogus_heuristic_answers(token_count, sum_first_ten_red)"
   ]
  },
  {
   "cell_type": "markdown",
   "metadata": {},
   "source": [
    "## Evaluate your results"
   ]
  },
  {
   "cell_type": "code",
   "execution_count": null,
   "metadata": {
    "collapsed": false
   },
   "outputs": [],
   "source": [
    "# If you used a heuristic without training: directly comparing predicted system output to actual output\n",
    "# Note that we actually use 'training' (observed) and validation data intermingled here.\n",
    "# If you ever implement a heuristic in the future, it is better to hold out validation data to increase generalizibility.\n",
    "\n",
    "predicted_labels = stupid_systems.always_say_one(phototweet_dataset)\n",
    "\n",
    "print metrics.confusion_matrix(phototweet_dataset['target'], predicted_labels)\n",
    "print metrics.accuracy_score(phototweet_dataset['target'], predicted_labels)"
   ]
  },
  {
   "cell_type": "code",
   "execution_count": null,
   "metadata": {
    "collapsed": false
   },
   "outputs": [],
   "source": [
    "# Sample code for training. Let's say we use the 10-D red pixel data, and try a Naive Bayesian classifier.\n",
    "\n",
    "# import the classifier and initalize it (consult the sklearn documentation for many more options)\n",
    "from sklearn.naive_bayes import GaussianNB\n",
    "gnb = GaussianNB()\n",
    "\n",
    "data = stupid_systems.get_ten_red_pixels(phototweet_dataset, data_folder)\n",
    "cs4125_util.validate_kfold(data, phototweet_dataset['target'], gnb)"
   ]
  }
 ],
 "metadata": {
  "kernelspec": {
   "display_name": "Python 2",
   "language": "python",
   "name": "python2"
  },
  "language_info": {
   "codemirror_mode": {
    "name": "ipython",
    "version": 2
   },
   "file_extension": ".py",
   "mimetype": "text/x-python",
   "name": "python",
   "nbconvert_exporter": "python",
   "pygments_lexer": "ipython2",
   "version": "2.7.13"
  }
 },
 "nbformat": 4,
 "nbformat_minor": 2
}
